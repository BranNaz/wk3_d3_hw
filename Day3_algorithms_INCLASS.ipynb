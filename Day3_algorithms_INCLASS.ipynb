{
 "cells": [
  {
   "cell_type": "markdown",
   "metadata": {},
   "source": [
    "# Algorithms, Binary Search & Linked Lists"
   ]
  },
  {
   "cell_type": "markdown",
   "metadata": {},
   "source": [
    "## Tasks Today:\n",
    " \n",
    "1) <b>In-Place Algorithms</b> <br>\n",
    " &nbsp;&nbsp;&nbsp;&nbsp; a) Syntax <br>\n",
    " &nbsp;&nbsp;&nbsp;&nbsp; a) Out of Place Algorithm <br>\n",
    " &nbsp;&nbsp;&nbsp;&nbsp; b) In-Class Exercise #1 <br>\n",
    "2) <b>Two Pointers</b> <br>\n",
    "3) <b>Linked Lists</b> <br>\n",
    "4) <b>Merge Sort</b> <br>\n",
    " &nbsp;&nbsp;&nbsp;&nbsp; a) Video on Algorithms <br>\n",
    " &nbsp;&nbsp;&nbsp;&nbsp; b) How it Works <br>\n",
    "5) <b>Exercises</b> <br>\n",
    " &nbsp;&nbsp;&nbsp;&nbsp; a) Exercise #1 - Reverse a List in Place Using an In-Place Algorithm <br>\n",
    " &nbsp;&nbsp;&nbsp;&nbsp; b) Exercise #2 - Find Distinct Words <br>\n",
    " &nbsp;&nbsp;&nbsp;&nbsp; c) Exercise #3 - Write a program to implement a Linear Search Algorithm. <br>"
   ]
  },
  {
   "cell_type": "markdown",
   "metadata": {},
   "source": [
    "## In-Place Algorithms"
   ]
  },
  {
   "cell_type": "markdown",
   "metadata": {},
   "source": [
    "#### Syntax"
   ]
  },
  {
   "cell_type": "code",
   "execution_count": null,
   "metadata": {},
   "outputs": [],
   "source": [
    "# sometimes called the swap algorithm\n",
    "def swap(nums, x,y ):\n",
    "    nums[x], nums[y] = nums[y], nums[x]\n",
    "    # temp = nums[y]\n",
    "    # nums[x] = nums[y]\n",
    "    # nums[y] = temp\n",
    "\n",
    "\n",
    "myList = [3,5,7,9,11]\n",
    "swap(myList, 1 , 3)\n",
    "print(myList)"
   ]
  },
  {
   "cell_type": "markdown",
   "metadata": {},
   "source": [
    "#### Out of Place Algorithm"
   ]
  },
  {
   "cell_type": "code",
   "execution_count": 1,
   "metadata": {},
   "outputs": [
    {
     "name": "stdout",
     "output_type": "stream",
     "text": [
      "myList before swap: [3, 5, 7, 9, 11]\n",
      "Output: [3, 9, 7, 5, 11]\n",
      "myList after swap: [3, 5, 7, 9, 11]\n"
     ]
    }
   ],
   "source": [
    "def swapOut(nums, x, y):\n",
    "    copy = nums[:]\n",
    "    copy[x], copy[y] = copy[y], copy[x]\n",
    "    return copy\n",
    "\n",
    "myList = [3,5,7,9,11]\n",
    "print('myList before swap:', myList)\n",
    "output = swapOut(myList, 1, 3)\n",
    "print('Output:', output)\n",
    "print(\"myList after swap:\" , myList)"
   ]
  },
  {
   "cell_type": "markdown",
   "metadata": {},
   "source": [
    "#### In-Class Exercise #1 <br>\n",
    "<p>Write a function that takes in four arguments (list, index1, index2, index3), and swaps those three positions in the list passed in.</p>"
   ]
  },
  {
   "cell_type": "code",
   "execution_count": null,
   "metadata": {},
   "outputs": [],
   "source": [
    "l_1 = [10, 4, 3, 8, 4, 2, 6]\n",
    "\n",
    "def func(num, x, y, z):\n",
    "    num[x], num[y], num[z]\n"
   ]
  },
  {
   "cell_type": "markdown",
   "metadata": {},
   "source": [
    "## Two Pointers"
   ]
  },
  {
   "cell_type": "markdown",
   "metadata": {},
   "source": [
    "#### Syntax"
   ]
  },
  {
   "cell_type": "code",
   "execution_count": 3,
   "metadata": {},
   "outputs": [
    {
     "name": "stdout",
     "output_type": "stream",
     "text": [
      "[6, 2, 4, 8, 3, 4, 10]\n"
     ]
    }
   ],
   "source": [
    "# use two pointers to swap( reverse this list)\n",
    "def twoPointerReverse(alist):\n",
    "    #creating pointer\n",
    "    left = 0\n",
    "    right = len(alist)-1\n",
    "    while left < right:\n",
    "        alist[left], alist[right] = alist[right], alist[left]\n",
    "        left += 1\n",
    "        right -=1\n",
    "    \n",
    "l_1 = [10, 4, 3, 8, 4, 2, 6]\n",
    "twoPointerReverse(l_1)\n",
    "print(l_1)"
   ]
  },
  {
   "cell_type": "markdown",
   "metadata": {},
   "source": [
    "#### Video of Algorithms <br>\n",
    "<p>Watch the video about algorithms.</p>\n",
    "\n",
    "https://www.youtube.com/watch?v=Q9HjeFD62Uk\n",
    "\n",
    "https://www.youtube.com/watch?v=kPRA0W1kECg\n",
    "\n",
    "https://www.youtube.com/watch?v=ZZuD6iUe3Pc"
   ]
  },
  {
   "cell_type": "markdown",
   "metadata": {},
   "source": [
    "# Sorting Algorithms"
   ]
  },
  {
   "cell_type": "markdown",
   "metadata": {},
   "source": [
    "#### Bubble Sort\n",
    "\n",
    "Worst Case: O(n^2) Time - O(1) Space"
   ]
  },
  {
   "cell_type": "code",
   "execution_count": 8,
   "metadata": {},
   "outputs": [
    {
     "name": "stdout",
     "output_type": "stream",
     "text": [
      "[2, 3, 4, 6, 8, 10]\n"
     ]
    }
   ],
   "source": [
    "# iterate throught the list\n",
    "# compare current number AND the one right enxt to it\n",
    "# if necesarry, swap (left should be smalle value)\n",
    "# repeat process for however long the list is\n",
    "\n",
    "def swap(nums, x,y):\n",
    "    nums[x], nums[y] = nums[y], nums[x]\n",
    "\n",
    "\n",
    "\n",
    "def bubbleSort(nums):\n",
    "    count = 0\n",
    "    for x in nums:\n",
    "        for i in range(len(nums)-1):\n",
    "            if nums[i] > nums[i+1]:\n",
    "                swap(nums, i, i+1)\n",
    "                \n",
    "        count +=1\n",
    "\n",
    "l_1 = [10, 4, 3, 8, 2, 6]\n",
    "bubbleSort(l_1)\n",
    "print(l_1)"
   ]
  },
  {
   "cell_type": "markdown",
   "metadata": {},
   "source": [
    "##### Insertion Sort\n",
    "\n",
    "Worst Case: O(n^2) time - O(1)space"
   ]
  },
  {
   "cell_type": "code",
   "execution_count": 10,
   "metadata": {},
   "outputs": [
    {
     "name": "stdout",
     "output_type": "stream",
     "text": [
      "[2, 3, 4, 6, 8, 10]\n"
     ]
    }
   ],
   "source": [
    "def swap(nums, x,y):\n",
    "    nums[x], nums[y] = nums[y], nums[x]\n",
    "\n",
    "def insertionSort(nums):\n",
    "    for i in range(1, len(nums)):\n",
    "        j = i \n",
    "        while j > 0 and nums[j] < nums[j - 1]:\n",
    "            swap(nums, j, j-1)\n",
    "            j -= 1\n",
    "\n",
    "\n",
    "l_1 = [10, 4, 3, 8, 2, 6]\n",
    "insertionSort(l_1)\n",
    "print(l_1)\n",
    "\n"
   ]
  },
  {
   "cell_type": "markdown",
   "metadata": {},
   "source": [
    "## Merge Sort"
   ]
  },
  {
   "cell_type": "markdown",
   "metadata": {},
   "source": [
    "#### How it Works"
   ]
  },
  {
   "cell_type": "code",
   "execution_count": null,
   "metadata": {},
   "outputs": [],
   "source": []
  },
  {
   "cell_type": "markdown",
   "metadata": {},
   "source": [
    "# Binary Search\n",
    "\n",
    "The Binary Search algorithm works by finding the number in the middle of a given array and comparing it to the target. Given that the array is sorted\n",
    "\n",
    "* The worst case run time for this algorithm is `O(log(n))`"
   ]
  },
  {
   "cell_type": "code",
   "execution_count": null,
   "metadata": {},
   "outputs": [],
   "source": []
  },
  {
   "cell_type": "markdown",
   "metadata": {},
   "source": [
    "# Exercises"
   ]
  },
  {
   "cell_type": "markdown",
   "metadata": {},
   "source": [
    "### Exercise #1 <br>\n",
    "<p>Reverse the list below in-place using an in-place algorithm.<br>For extra credit: Reverse the strings at the same time.</p>"
   ]
  },
  {
   "cell_type": "code",
   "execution_count": 12,
   "metadata": {},
   "outputs": [
    {
     "name": "stdout",
     "output_type": "stream",
     "text": [
      "['.', 'sentence', 'a', 'is', 'this']\n"
     ]
    }
   ],
   "source": [
    "words = ['this' , 'is', 'a', 'sentence', '.']\n",
    "\n",
    "def wordRev(newli, a, b, c, d, e):\n",
    "    newli[a], newli[b], newli[c], newli[d], newli[e] = newli[e], newli[d], newli[c], newli[b], newli[a]\n",
    "\n",
    "wordRev(words, 0,1,2,3,4)\n",
    "print(words)"
   ]
  },
  {
   "cell_type": "markdown",
   "metadata": {},
   "source": [
    "### Exercise #2 <br>\n",
    "<p>Create a function that counts how many distinct words are in the string below, then outputs a dictionary with the words as the key and the value as the amount of times that word appears in the string.<br>Should output:<br>{'a': 5,<br>\n",
    " 'abstract': 1,<br>\n",
    " 'an': 3,<br>\n",
    " 'array': 2, ... etc...</p>"
   ]
  },
  {
   "cell_type": "code",
   "execution_count": null,
   "metadata": {},
   "outputs": [],
   "source": [
    "a_text = 'In computing, a hash table hash map is a data structure which implements an associative array abstract data type, a structure that can map keys to values. A hash table uses a hash function to compute an index into an array of buckets or slots from which the desired value can be found'\n",
    "\n"
   ]
  },
  {
   "cell_type": "markdown",
   "metadata": {},
   "source": [
    "## Exercise #3\n",
    "\n",
    "Write a program to implement a Linear Search Algorithm. Also in a comment, write the Time Complexity of the following algorithm.\n",
    "\n",
    "#### Hint: Linear Searching will require searching a list for a given number. "
   ]
  },
  {
   "cell_type": "code",
   "execution_count": 11,
   "metadata": {},
   "outputs": [
    {
     "data": {
      "text/plain": [
       "'The number was found at index 4'"
      ]
     },
     "execution_count": 11,
     "metadata": {},
     "output_type": "execute_result"
    }
   ],
   "source": [
    "def linearSearch(array, target):\n",
    "    for i in range(len(array)):\n",
    "        if array[i] == target:\n",
    "            return f\"The number was found at index {i}\"\n",
    "    return -1\n",
    "            \n",
    "linearSearch([22,44,55,66,88,100], 88)"
   ]
  }
 ],
 "metadata": {
  "kernelspec": {
   "display_name": "Python 3.9.13 64-bit",
   "language": "python",
   "name": "python3"
  },
  "language_info": {
   "codemirror_mode": {
    "name": "ipython",
    "version": 3
   },
   "file_extension": ".py",
   "mimetype": "text/x-python",
   "name": "python",
   "nbconvert_exporter": "python",
   "pygments_lexer": "ipython3",
   "version": "3.9.13"
  },
  "vscode": {
   "interpreter": {
    "hash": "841f6e9e7907cc7639058be9851d88b85fadf3c9f9317707a4c07223369a2705"
   }
  }
 },
 "nbformat": 4,
 "nbformat_minor": 2
}
